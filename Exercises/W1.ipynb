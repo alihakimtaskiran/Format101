{
 "cells": [
  {
   "cell_type": "markdown",
   "id": "6afebbaa",
   "metadata": {},
   "source": [
    "**1.** Write a program that converts 400K to Celsius and displays the\n",
    "formatted result."
   ]
  },
  {
   "cell_type": "code",
   "execution_count": 1,
   "id": "273161fa",
   "metadata": {},
   "outputs": [
    {
     "name": "stdout",
     "output_type": "stream",
     "text": [
      "400K is 127 C\n"
     ]
    }
   ],
   "source": [
    "import os as ___\n",
    "_=open(\"raw.txt\",\"w\")\n",
    "_.close()\n",
    "__=\"#include<cmath>\\n#include<fstream>\\n using namespace std; int main(){ fstream io; io.open(\\\"raw.txt\\\");io<<400-273; io.close();    return 0;}\"\n",
    "_=open(\"renderer.cpp\",\"w\")\n",
    "_.write(__)\n",
    "_.close()\n",
    "___.system(\"g++ renderer.cpp -o renderer&&./renderer\")\n",
    "_=open(\"raw.txt\",\"r\")\n",
    "__=int(_.read())\n",
    "print(\"400K is {} C\".format(__))\n",
    "_.close()"
   ]
  },
  {
   "cell_type": "markdown",
   "id": "83283323",
   "metadata": {},
   "source": [
    "**2.** Write a program that finds the area and perimeter of a circle with the\n",
    "radius 1.5 cm and display the result. You can assume pi is the constant\n",
    "value 3.14."
   ]
  },
  {
   "cell_type": "code",
   "execution_count": 2,
   "id": "feb477bc",
   "metadata": {},
   "outputs": [
    {
     "name": "stdout",
     "output_type": "stream",
     "text": [
      "7.06858 cm\n"
     ]
    }
   ],
   "source": [
    "import os as ___\n",
    "_=open(\"raw.txt\",\"w\")\n",
    "_.close()\n",
    "__=\"#include<cmath>\\n#include<iostream>\\n int main(){std::cout<<pow(1.5,2)*M_PI<<\\\" cm\\\"<<std::endl;return 0;}\"\n",
    "_=open(\"renderer.cpp\",\"w\")\n",
    "_.write(__)\n",
    "_.close()\n",
    "_=___.system(\"g++ renderer.cpp -o renderer&&./renderer\")"
   ]
  },
  {
   "cell_type": "markdown",
   "id": "1f2b07f9",
   "metadata": {},
   "source": [
    "**3.** Write a program that finds the sum of the first and last digit of some 4-\n",
    "digit number."
   ]
  },
  {
   "cell_type": "code",
   "execution_count": 3,
   "id": "d4e98270",
   "metadata": {},
   "outputs": [
    {
     "name": "stdout",
     "output_type": "stream",
     "text": [
      "First digit of number is 4 and last one is 2\n"
     ]
    }
   ],
   "source": [
    "_=4892\n",
    "print(\"First digit of number is {0} and last one is {1}\".format(str(_)[0],str(_)[3]))"
   ]
  },
  {
   "cell_type": "markdown",
   "id": "f5e80754",
   "metadata": {},
   "source": [
    "**4.** Write a program to calculate the number of hours and minutes needed\n",
    "for a car to travel 500 kilometers at the velocity 110 km/h."
   ]
  },
  {
   "cell_type": "code",
   "execution_count": 4,
   "id": "02b84ab6",
   "metadata": {},
   "outputs": [
    {
     "name": "stdout",
     "output_type": "stream",
     "text": [
      "Required time for journey is 4 hours and 33 minutes\n"
     ]
    }
   ],
   "source": [
    "_=500\n",
    "__=110\n",
    "print(\"Required time for journey is {0:.0f} hours and {1:.0f} minutes\".format((_/__)//1,(_/__)%1*60))"
   ]
  }
 ],
 "metadata": {
  "kernelspec": {
   "display_name": "Python 3 (ipykernel)",
   "language": "python",
   "name": "python3"
  },
  "language_info": {
   "codemirror_mode": {
    "name": "ipython",
    "version": 3
   },
   "file_extension": ".py",
   "mimetype": "text/x-python",
   "name": "python",
   "nbconvert_exporter": "python",
   "pygments_lexer": "ipython3",
   "version": "3.9.7"
  }
 },
 "nbformat": 4,
 "nbformat_minor": 5
}
